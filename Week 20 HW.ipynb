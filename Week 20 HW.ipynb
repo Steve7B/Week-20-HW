{
 "cells": [
  {
   "cell_type": "code",
   "execution_count": 3,
   "metadata": {},
   "outputs": [
    {
     "name": "stdout",
     "output_type": "stream",
     "text": [
      "['65', '40', '45', '41', '42', '46', '48', '-300', '58', '58', '54', '56', '69', '64', '64', '58', '90', '52', '70', '205', '45', '50', '45', '47', '51', '53', '63', '63', '59', '61', '74', '69', '69', '63', '95', '57']\n"
     ]
    }
   ],
   "source": [
    "file = open('sensordata.txt')\n",
    "sensor_data = file.read().split()\n",
    "print(sensor_data)"
   ]
  },
  {
   "cell_type": "code",
   "execution_count": 4,
   "metadata": {},
   "outputs": [
    {
     "name": "stdout",
     "output_type": "stream",
     "text": [
      "[65, 40, 45, 41, 42, 46, 48, -300, 58, 58, 54, 56, 69, 64, 64, 58, 90, 52, 70, 205, 45, 50, 45, 47, 51, 53, 63, 63, 59, 61, 74, 69, 69, 63, 95, 57]\n"
     ]
    }
   ],
   "source": [
    "sensor = []\n",
    "\n",
    "for data in sensor_data:\n",
    "    sensor.append(int(data))\n",
    "print(sensor)"
   ]
  },
  {
   "cell_type": "code",
   "execution_count": 5,
   "metadata": {},
   "outputs": [
    {
     "name": "stdout",
     "output_type": "stream",
     "text": [
      "[65, 40, 45, 41, 42, 46, 48, 58, 58, 54, 56, 69, 64, 64, 58, 90, 52, 70, 45, 50, 45, 47, 51, 53, 63, 63, 59, 61, 74, 69, 69, 63, 95, 57]\n"
     ]
    }
   ],
   "source": [
    "#First Question\n",
    "final = []\n",
    "for data in sensor:\n",
    "    if (data > -200) and (data < 200):\n",
    "        final.append(int(data))\n",
    "print(final)"
   ]
  },
  {
   "cell_type": "code",
   "execution_count": 7,
   "metadata": {},
   "outputs": [],
   "source": [
    "#Second Question\n",
    "total = 0\n",
    "for correct in final:\n",
    "    total = correct + total\n",
    "average = total / len(final)"
   ]
  },
  {
   "cell_type": "code",
   "execution_count": 8,
   "metadata": {},
   "outputs": [],
   "source": [
    "#Third Question\n",
    "above = 0\n",
    "below = 0\n",
    "for data in final:\n",
    "    if (data > average):\n",
    "        above = above + 1\n",
    "    elif (data < average):\n",
    "        below = below + 1        "
   ]
  },
  {
   "cell_type": "code",
   "execution_count": 10,
   "metadata": {},
   "outputs": [
    {
     "name": "stdout",
     "output_type": "stream",
     "text": [
      "[65, 40, 45, 41, 42, 46, 48, 58, 58, 54, 56, 69, 64, 64, 58, 90, 52, 70, 45, 50, 45, 47, 51, 53, 63, 63, 59, 61, 74, 69, 69, 63, 95, 57]\n",
      "The average temperature is 58.35294117647059\n",
      "The amount above the average is: 15\n",
      "The amount below the average is: 19\n"
     ]
    }
   ],
   "source": [
    "first_question = final\n",
    "print(first_question)\n",
    "second_question = (average)\n",
    "print(f'The average temperature is {second_question}')\n",
    "print(f'The amount above the average is: {above}\\nThe amount below the average is: {below}')"
   ]
  }
 ],
 "metadata": {
  "kernelspec": {
   "display_name": "Python 3",
   "language": "python",
   "name": "python3"
  },
  "language_info": {
   "codemirror_mode": {
    "name": "ipython",
    "version": 3
   },
   "file_extension": ".py",
   "mimetype": "text/x-python",
   "name": "python",
   "nbconvert_exporter": "python",
   "pygments_lexer": "ipython3",
   "version": "3.8.5"
  }
 },
 "nbformat": 4,
 "nbformat_minor": 4
}
